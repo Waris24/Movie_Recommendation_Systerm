{
  "nbformat": 4,
  "nbformat_minor": 0,
  "metadata": {
    "colab": {
      "provenance": [],
      "authorship_tag": "ABX9TyMAbz8wUyE/3A0aWO0RPxki",
      "include_colab_link": true
    },
    "kernelspec": {
      "name": "python3",
      "display_name": "Python 3"
    },
    "language_info": {
      "name": "python"
    }
  },
  "cells": [
    {
      "cell_type": "markdown",
      "metadata": {
        "id": "view-in-github",
        "colab_type": "text"
      },
      "source": [
        "<a href=\"https://colab.research.google.com/github/Waris24/Movie_Recommendation_Systerm/blob/main/YBI_Final_project(Movie_recomand).ipynb\" target=\"_parent\"><img src=\"https://colab.research.google.com/assets/colab-badge.svg\" alt=\"Open In Colab\"/></a>"
      ]
    },
    {
      "cell_type": "markdown",
      "source": [
        "# Movie Recommendation System\n"
      ],
      "metadata": {
        "id": "DdAzTCQYUsVk"
      }
    },
    {
      "cell_type": "markdown",
      "source": [
        "# Objective\n",
        "To create a movie recommendation system based on text similarity using the Cosine Similarity technique. The primary goal is to help users discover movies similar to their favorite choices from a dataset. The code employs natural language processing (NLP) techniques to extract and combine various movie features, such as genre, keywords, taglines, cast, and director. After processing the data, the code prompts users to input their favorite movie. It then identifies similar movies using Cosine Similarity and presents a list of the top 30 recommended movies based on similarity scores. Additionally, the code allows users to input another favorite movie and provides a refined list of the top 10 movies that closely match their preferences. The recommendation process assists users in discovering movies with thematic and contextual similarities to their selected favorites."
      ],
      "metadata": {
        "id": "psJ_q84dUuyz"
      }
    },
    {
      "cell_type": "markdown",
      "source": [
        "### Step 1 Import Library\n",
        "\n",
        "\n"
      ],
      "metadata": {
        "id": "s-dpjOGS3rar"
      }
    },
    {
      "cell_type": "code",
      "source": [
        "import pandas as pd"
      ],
      "metadata": {
        "id": "Mvkjn94L3ytJ"
      },
      "execution_count": 50,
      "outputs": []
    },
    {
      "cell_type": "code",
      "source": [
        "import numpy as np"
      ],
      "metadata": {
        "id": "DV1ZZ3-U4FgU"
      },
      "execution_count": 2,
      "outputs": []
    },
    {
      "cell_type": "markdown",
      "source": [
        "### Import Data"
      ],
      "metadata": {
        "id": "sJytdbIZ5T5x"
      }
    },
    {
      "cell_type": "code",
      "source": [
        "df = pd.read_csv(\"https://github.com/YBI-Foundation/Dataset/raw/main/Movies%20Recommendation.csv\")"
      ],
      "metadata": {
        "id": "Sref03Yy4KUN"
      },
      "execution_count": 38,
      "outputs": []
    },
    {
      "cell_type": "markdown",
      "source": [
        "### Step 3 Describe Data"
      ],
      "metadata": {
        "id": "LHKqlNizWF6V"
      }
    },
    {
      "cell_type": "code",
      "source": [
        "df.head()"
      ],
      "metadata": {
        "id": "OowOjjVx4sCU"
      },
      "execution_count": null,
      "outputs": []
    },
    {
      "cell_type": "code",
      "source": [
        "df.describe()"
      ],
      "metadata": {
        "id": "S1pC_KM44wpz"
      },
      "execution_count": null,
      "outputs": []
    },
    {
      "cell_type": "code",
      "source": [
        "df.info()"
      ],
      "metadata": {
        "id": "HX4kuk_d44IE"
      },
      "execution_count": null,
      "outputs": []
    },
    {
      "cell_type": "code",
      "source": [
        "df.shape"
      ],
      "metadata": {
        "id": "nJr-60-h49xT"
      },
      "execution_count": null,
      "outputs": []
    },
    {
      "cell_type": "code",
      "source": [
        "df.columns"
      ],
      "metadata": {
        "id": "8031dUVS5nFC"
      },
      "execution_count": null,
      "outputs": []
    },
    {
      "cell_type": "markdown",
      "source": [
        "## Step 4 Define Target Variable (y) and Feature Variables (X)"
      ],
      "metadata": {
        "id": "dVOVf5Pg5rjI"
      }
    },
    {
      "cell_type": "code",
      "source": [
        "#Step 3: Define target (y) and fecture (x)\n",
        "df_feature = df[['Movie_Genre', 'Movie_Keywords', 'Movie_Tagline', 'Movie_Cast', 'Movie_Director']].fillna('')"
      ],
      "metadata": {
        "id": "nW1gFocn5vmC"
      },
      "execution_count": 5,
      "outputs": []
    },
    {
      "cell_type": "markdown",
      "source": [
        "Selected five existing features to recommand movies."
      ],
      "metadata": {
        "id": "xChPtZj66VY3"
      }
    },
    {
      "cell_type": "code",
      "source": [
        "df_feature.shape"
      ],
      "metadata": {
        "id": "KC1kGHQ26jil"
      },
      "execution_count": null,
      "outputs": []
    },
    {
      "cell_type": "code",
      "source": [
        "df_feature"
      ],
      "metadata": {
        "id": "qEFMD1tw6s3y"
      },
      "execution_count": null,
      "outputs": []
    },
    {
      "cell_type": "markdown",
      "source": [
        "###Step 5 Train Test Split"
      ],
      "metadata": {
        "id": "CoZ97aNfWxnf"
      }
    },
    {
      "cell_type": "code",
      "source": [
        "X = df_feature['Movie_Genre'] + ' ' + df_feature['Movie_Keywords'] + ' ' + df_feature['Movie_Tagline']+ ' ' + df_feature['Movie_Cast'] + ' ' + df_feature['Movie_Director']"
      ],
      "metadata": {
        "id": "HjCd9lyr6wUI"
      },
      "execution_count": 7,
      "outputs": []
    },
    {
      "cell_type": "code",
      "source": [
        "X"
      ],
      "metadata": {
        "id": "lSdqIscW7hs4"
      },
      "execution_count": null,
      "outputs": []
    },
    {
      "cell_type": "code",
      "source": [
        "X.shape"
      ],
      "metadata": {
        "id": "wS6VSbGj7nR9"
      },
      "execution_count": null,
      "outputs": []
    },
    {
      "cell_type": "markdown",
      "source": [
        "### Step 6: Modeling"
      ],
      "metadata": {
        "id": "cND9_YF079XG"
      }
    },
    {
      "cell_type": "code",
      "source": [
        "from sklearn.feature_extraction.text import TfidfVectorizer"
      ],
      "metadata": {
        "id": "Pd3p_NBP8BLH"
      },
      "execution_count": 8,
      "outputs": []
    },
    {
      "cell_type": "code",
      "source": [
        "tfid = TfidfVectorizer()"
      ],
      "metadata": {
        "id": "l8DHIV3t8Q9j"
      },
      "execution_count": 28,
      "outputs": []
    },
    {
      "cell_type": "code",
      "source": [
        "X = tfid.fit_transform(X)"
      ],
      "metadata": {
        "id": "ErlvtGr78XK8"
      },
      "execution_count": 10,
      "outputs": []
    },
    {
      "cell_type": "code",
      "source": [
        "X.shape"
      ],
      "metadata": {
        "id": "ph66JvLS8pVM"
      },
      "execution_count": null,
      "outputs": []
    },
    {
      "cell_type": "code",
      "source": [
        "from sklearn.metrics.pairwise import cosine_similarity"
      ],
      "metadata": {
        "id": "e41SCr--8wda"
      },
      "execution_count": 11,
      "outputs": []
    },
    {
      "cell_type": "code",
      "source": [
        "Similarity_Score = cosine_similarity(X)"
      ],
      "metadata": {
        "id": "ZGZy5-WD9c2b"
      },
      "execution_count": 12,
      "outputs": []
    },
    {
      "cell_type": "code",
      "source": [
        "Similarity_Score"
      ],
      "metadata": {
        "id": "idbcSWSl9czT"
      },
      "execution_count": null,
      "outputs": []
    },
    {
      "cell_type": "code",
      "source": [
        "Similarity_Score.shape"
      ],
      "metadata": {
        "id": "Jo-rESns9sQu",
        "colab": {
          "base_uri": "https://localhost:8080/"
        },
        "outputId": "692be7ee-9153-4c82-898c-1fe6e23ba202"
      },
      "execution_count": 51,
      "outputs": [
        {
          "output_type": "execute_result",
          "data": {
            "text/plain": [
              "(4760, 4760)"
            ]
          },
          "metadata": {},
          "execution_count": 51
        }
      ]
    },
    {
      "cell_type": "markdown",
      "source": [
        "### Step 7: Model Evaluation"
      ],
      "metadata": {
        "id": "d_W-SgLX9v4t"
      }
    },
    {
      "cell_type": "code",
      "source": [
        "fv_movie = input('Enter your favourite movie name: ')"
      ],
      "metadata": {
        "id": "libWJzuh973u",
        "colab": {
          "base_uri": "https://localhost:8080/"
        },
        "outputId": "43c2f210-8026-4d50-faf4-e45804467adc"
      },
      "execution_count": 14,
      "outputs": [
        {
          "name": "stdout",
          "output_type": "stream",
          "text": [
            "Enter your favourite movie name: avtaar\n"
          ]
        }
      ]
    },
    {
      "cell_type": "code",
      "source": [
        "All_Movietitle_list = df['Movie_Title'].tolist()"
      ],
      "metadata": {
        "id": "NFiDairg-QBK"
      },
      "execution_count": 15,
      "outputs": []
    },
    {
      "cell_type": "code",
      "source": [
        "import difflib"
      ],
      "metadata": {
        "id": "5VLIZ6Kz-bqi"
      },
      "execution_count": 49,
      "outputs": []
    },
    {
      "cell_type": "code",
      "source": [
        "movie_recomand = difflib.get_close_matches(fv_movie, All_Movietitle_list)\n"
      ],
      "metadata": {
        "id": "oI5CylfR-jli"
      },
      "execution_count": 44,
      "outputs": []
    },
    {
      "cell_type": "code",
      "source": [
        "close_match = movie_recomand[0]\n"
      ],
      "metadata": {
        "id": "Qw8RU2rI-47H"
      },
      "execution_count": 45,
      "outputs": []
    },
    {
      "cell_type": "code",
      "source": [
        "Index_of_close_match_movie = df[df.Movie_Title == close_match]['Movie_ID'].values[0]\n"
      ],
      "metadata": {
        "id": "nysI4uzv_CEP"
      },
      "execution_count": 46,
      "outputs": []
    },
    {
      "cell_type": "code",
      "source": [
        "#Getting a list of similar movies\n",
        "\n",
        "Recommand_score = list(enumerate(Similarity_Score[Index_of_close_match_movie]))\n"
      ],
      "metadata": {
        "id": "MBTlJ239_vT0"
      },
      "execution_count": 48,
      "outputs": []
    },
    {
      "cell_type": "code",
      "source": [
        "len(Recommand_score)"
      ],
      "metadata": {
        "id": "tbozSOvCAIrk",
        "colab": {
          "base_uri": "https://localhost:8080/"
        },
        "outputId": "ef60a8d4-ebc6-44e9-c497-521df5051f99"
      },
      "execution_count": 21,
      "outputs": [
        {
          "output_type": "execute_result",
          "data": {
            "text/plain": [
              "4760"
            ]
          },
          "metadata": {},
          "execution_count": 21
        }
      ]
    },
    {
      "cell_type": "markdown",
      "source": [
        "#### Get all movies sorted based on recommadation score wrt favorite movie\n",
        "\n",
        "\n"
      ],
      "metadata": {
        "id": "fhDTlLPiASxl"
      }
    },
    {
      "cell_type": "code",
      "source": [
        "#sort all movies based on their similar score\n",
        "Sorted_Similar_Movie = sorted(Recommand_score, key = lambda x:x[1], reverse = True)"
      ],
      "metadata": {
        "id": "0LLJxQ1hAQ8i"
      },
      "execution_count": 52,
      "outputs": []
    },
    {
      "cell_type": "markdown",
      "source": [
        "### Step 8 Prediction"
      ],
      "metadata": {
        "id": "ChpEhWE3XT-X"
      }
    },
    {
      "cell_type": "code",
      "source": [
        "#print the number of movies based on index\n",
        "\n",
        "print(\"Top 30 movies suggested for you: \\n\")\n",
        "\n",
        "i = 1\n",
        "for movie in Sorted_Similar_Movie:\n",
        "  index = movie[0]\n",
        "  title_from_index = df[df.index==index]['Movie_Title'].values[0]\n",
        "  if(i<31):\n",
        "    print(i, '.', title_from_index)\n",
        "    i+=1"
      ],
      "metadata": {
        "id": "UQVb3tv3BTmY",
        "colab": {
          "base_uri": "https://localhost:8080/"
        },
        "outputId": "2a192d76-69e2-4307-e568-ed65cf4ebeba"
      },
      "execution_count": 23,
      "outputs": [
        {
          "output_type": "stream",
          "name": "stdout",
          "text": [
            "Top 30 movies suggested for you: \n",
            "\n",
            "1 . Niagara\n",
            "2 . Caravans\n",
            "3 . My Week with Marilyn\n",
            "4 . Brokeback Mountain\n",
            "5 . Harry Brown\n",
            "6 . Night of the Living Dead\n",
            "7 . The Curse of Downers Grove\n",
            "8 . The Boy Next Door\n",
            "9 . Back to the Future\n",
            "10 . The Juror\n",
            "11 . Some Like It Hot\n",
            "12 . Enough\n",
            "13 . The Kentucky Fried Movie\n",
            "14 . Eye for an Eye\n",
            "15 . Welcome to the Sticks\n",
            "16 . Alice Through the Looking Glass\n",
            "17 . Superman III\n",
            "18 . The Misfits\n",
            "19 . Premium Rush\n",
            "20 . Duel in the Sun\n",
            "21 . Sabotage\n",
            "22 . Small Soldiers\n",
            "23 . All That Jazz\n",
            "24 . Camping Sauvage\n",
            "25 . The Raid\n",
            "26 . Beyond the Black Rainbow\n",
            "27 . To Kill a Mockingbird\n",
            "28 . World Trade Center\n",
            "29 . The Dark Knight Rises\n",
            "30 . Tora! Tora! Tora!\n"
          ]
        }
      ]
    },
    {
      "cell_type": "markdown",
      "source": [
        "## Top 10 recommendation system\n",
        "\n"
      ],
      "metadata": {
        "id": "FG-O3_EcPVSV"
      }
    },
    {
      "cell_type": "code",
      "source": [
        "Movie_Name = input('Enter your favorite movie name: ')\n",
        "\n",
        "list_of_all_titles = df['Movie_Title'].tolist()\n",
        "Close_Match = difflib.get_close_matches(Movie_Name, list_of_all_titles)\n",
        "Close_Hatch_Find = Close_Match[0]\n",
        "Index_of_Movie = df[df.Movie_Title == Close_Hatch_Find]['Movie_ID'].values[0]\n",
        "Recommendation_Score = list(enumerate(Similarity_Score[Index_of_Movie]))\n",
        "sorted_similar_movies = sorted(Recommendation_Score, key=lambda x: x[1], reverse=True)\n",
        "\n",
        "print(\"Top 10 Movies suggested for you:\\n\")\n",
        "\n",
        "top_10_movies = []  # Initialize an empty list to store top 10 movie titles\n",
        "i = 1\n",
        "for movie in sorted_similar_movies:\n",
        "    index = movie[0]\n",
        "    title_from_index = df[df.index == index]['Movie_Title'].values[0]\n",
        "    if i < 11:\n",
        "        top_10_movies.append(title_from_index)  # Add movie title to the list\n",
        "        print(i, '.', title_from_index)\n",
        "        i += 1\n"
      ],
      "metadata": {
        "colab": {
          "base_uri": "https://localhost:8080/"
        },
        "id": "I-ZQ91KVQzWY",
        "outputId": "67a896ef-b714-45a4-c000-df8b1535013c"
      },
      "execution_count": 31,
      "outputs": [
        {
          "output_type": "stream",
          "name": "stdout",
          "text": [
            "Enter your favorite movie name: avtaar\n",
            "Top 10 Movies suggested for you:\n",
            "\n",
            "1 . Niagara\n",
            "2 . Caravans\n",
            "3 . My Week with Marilyn\n",
            "4 . Brokeback Mountain\n",
            "5 . Harry Brown\n",
            "6 . Night of the Living Dead\n",
            "7 . The Curse of Downers Grove\n",
            "8 . The Boy Next Door\n",
            "9 . Back to the Future\n",
            "10 . The Juror\n"
          ]
        }
      ]
    },
    {
      "cell_type": "markdown",
      "source": [
        "## Data Visualization"
      ],
      "metadata": {
        "id": "MF-exjxKXafV"
      }
    },
    {
      "cell_type": "code",
      "source": [
        "import matplotlib.pyplot as plt\n"
      ],
      "metadata": {
        "id": "Os7q5lWkTdC_"
      },
      "execution_count": 41,
      "outputs": []
    },
    {
      "cell_type": "code",
      "source": [
        "# Visualization for top 10 movies\n",
        "plt.figure(figsize=(10, 6))\n",
        "plt.barh(top_10_movies, [movie[1] for movie in sorted_similar_movies[:10]], color='skyblue')\n",
        "plt.xlabel('Similarity Score')\n",
        "plt.ylabel('Movie Title')\n",
        "plt.title('Top 10 Recommended Movies')\n",
        "plt.gca().invert_yaxis()  # Invert y-axis to have highest similarity at the top\n",
        "plt.tight_layout()\n",
        "plt.show()"
      ],
      "metadata": {
        "colab": {
          "base_uri": "https://localhost:8080/",
          "height": 607
        },
        "id": "IqmAQPLwUIgq",
        "outputId": "7e9fc15a-9182-423b-ce7f-e9535f4ab598"
      },
      "execution_count": 43,
      "outputs": [
        {
          "output_type": "display_data",
          "data": {
            "text/plain": [
              "<Figure size 1000x600 with 1 Axes>"
            ],
            "image/png": "[encoded data removed]"
          },
          "metadata": {}
        }
      ]
    },
    {
      "cell_type": "markdown",
      "source": [
        "## Explaination\n",
        "This project employs Cosine Similarity and natural language processing to build a movie recommendation system. Users input their favorite movie, and the code suggests similar movies from a dataset based on genre, keywords, taglines, cast, and director. It calculates similarity scores, presents top 30 recommendations, and offers a refined list of top 10 choices for user input. A simple yet effective tool for discovering movies with thematic likeness, enhancing movie exploration.\n"
      ],
      "metadata": {
        "id": "r7FgvzcJXjoZ"
      }
    }
  ]
}